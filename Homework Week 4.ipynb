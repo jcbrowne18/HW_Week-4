{
  "cells": [
    {
      "metadata": {},
      "cell_type": "markdown",
      "source": "# Phil's Fish Factory"
    },
    {
      "metadata": {
        "trusted": true
      },
      "cell_type": "code",
      "source": "import pandas as pd\nimport statsmodels.formula.api as sm",
      "execution_count": 1,
      "outputs": []
    },
    {
      "metadata": {
        "trusted": true
      },
      "cell_type": "code",
      "source": "## bringing in dataset\n\nloc1 = \"Datasets/PhilsFishFactoryData.xlsx\"\nfish = pd.read_excel(loc1)\nfish.head()",
      "execution_count": 2,
      "outputs": [
        {
          "output_type": "execute_result",
          "execution_count": 2,
          "data": {
            "text/html": "<div>\n<style scoped>\n    .dataframe tbody tr th:only-of-type {\n        vertical-align: middle;\n    }\n\n    .dataframe tbody tr th {\n        vertical-align: top;\n    }\n\n    .dataframe thead th {\n        text-align: right;\n    }\n</style>\n<table border=\"1\" class=\"dataframe\">\n  <thead>\n    <tr style=\"text-align: right;\">\n      <th></th>\n      <th>Unnamed: 0</th>\n      <th>Day</th>\n      <th>Wholesale Price ($/lb)</th>\n      <th># Lobsters sold</th>\n    </tr>\n  </thead>\n  <tbody>\n    <tr>\n      <th>0</th>\n      <td>NaN</td>\n      <td>Fri</td>\n      <td>7.0</td>\n      <td>4</td>\n    </tr>\n    <tr>\n      <th>1</th>\n      <td>NaN</td>\n      <td>sat</td>\n      <td>4.0</td>\n      <td>29</td>\n    </tr>\n    <tr>\n      <th>2</th>\n      <td>NaN</td>\n      <td>Sun</td>\n      <td>6.5</td>\n      <td>18</td>\n    </tr>\n    <tr>\n      <th>3</th>\n      <td>NaN</td>\n      <td>Mon</td>\n      <td>5.0</td>\n      <td>17</td>\n    </tr>\n    <tr>\n      <th>4</th>\n      <td>NaN</td>\n      <td>Tue</td>\n      <td>4.0</td>\n      <td>25</td>\n    </tr>\n  </tbody>\n</table>\n</div>",
            "text/plain": "   Unnamed: 0  Day  Wholesale Price ($/lb)  # Lobsters sold\n0         NaN  Fri                     7.0                4\n1         NaN  sat                     4.0               29\n2         NaN  Sun                     6.5               18\n3         NaN  Mon                     5.0               17\n4         NaN  Tue                     4.0               25"
          },
          "metadata": {}
        }
      ]
    },
    {
      "metadata": {
        "trusted": true
      },
      "cell_type": "code",
      "source": "## drop column with null values\n\nfish = fish.dropna(axis=1, how='all')\nfish.head()",
      "execution_count": 3,
      "outputs": [
        {
          "output_type": "execute_result",
          "execution_count": 3,
          "data": {
            "text/html": "<div>\n<style scoped>\n    .dataframe tbody tr th:only-of-type {\n        vertical-align: middle;\n    }\n\n    .dataframe tbody tr th {\n        vertical-align: top;\n    }\n\n    .dataframe thead th {\n        text-align: right;\n    }\n</style>\n<table border=\"1\" class=\"dataframe\">\n  <thead>\n    <tr style=\"text-align: right;\">\n      <th></th>\n      <th>Day</th>\n      <th>Wholesale Price ($/lb)</th>\n      <th># Lobsters sold</th>\n    </tr>\n  </thead>\n  <tbody>\n    <tr>\n      <th>0</th>\n      <td>Fri</td>\n      <td>7.0</td>\n      <td>4</td>\n    </tr>\n    <tr>\n      <th>1</th>\n      <td>sat</td>\n      <td>4.0</td>\n      <td>29</td>\n    </tr>\n    <tr>\n      <th>2</th>\n      <td>Sun</td>\n      <td>6.5</td>\n      <td>18</td>\n    </tr>\n    <tr>\n      <th>3</th>\n      <td>Mon</td>\n      <td>5.0</td>\n      <td>17</td>\n    </tr>\n    <tr>\n      <th>4</th>\n      <td>Tue</td>\n      <td>4.0</td>\n      <td>25</td>\n    </tr>\n  </tbody>\n</table>\n</div>",
            "text/plain": "   Day  Wholesale Price ($/lb)  # Lobsters sold\n0  Fri                     7.0                4\n1  sat                     4.0               29\n2  Sun                     6.5               18\n3  Mon                     5.0               17\n4  Tue                     4.0               25"
          },
          "metadata": {}
        }
      ]
    },
    {
      "metadata": {
        "trusted": true
      },
      "cell_type": "code",
      "source": "## rename variables\n\nfish['Price'] = fish['Wholesale Price ($/lb)']\nfish['Lobs_Sold'] = fish['# Lobsters sold']\nfish.head()",
      "execution_count": 4,
      "outputs": [
        {
          "output_type": "execute_result",
          "execution_count": 4,
          "data": {
            "text/html": "<div>\n<style scoped>\n    .dataframe tbody tr th:only-of-type {\n        vertical-align: middle;\n    }\n\n    .dataframe tbody tr th {\n        vertical-align: top;\n    }\n\n    .dataframe thead th {\n        text-align: right;\n    }\n</style>\n<table border=\"1\" class=\"dataframe\">\n  <thead>\n    <tr style=\"text-align: right;\">\n      <th></th>\n      <th>Day</th>\n      <th>Wholesale Price ($/lb)</th>\n      <th># Lobsters sold</th>\n      <th>Price</th>\n      <th>Lobs_Sold</th>\n    </tr>\n  </thead>\n  <tbody>\n    <tr>\n      <th>0</th>\n      <td>Fri</td>\n      <td>7.0</td>\n      <td>4</td>\n      <td>7.0</td>\n      <td>4</td>\n    </tr>\n    <tr>\n      <th>1</th>\n      <td>sat</td>\n      <td>4.0</td>\n      <td>29</td>\n      <td>4.0</td>\n      <td>29</td>\n    </tr>\n    <tr>\n      <th>2</th>\n      <td>Sun</td>\n      <td>6.5</td>\n      <td>18</td>\n      <td>6.5</td>\n      <td>18</td>\n    </tr>\n    <tr>\n      <th>3</th>\n      <td>Mon</td>\n      <td>5.0</td>\n      <td>17</td>\n      <td>5.0</td>\n      <td>17</td>\n    </tr>\n    <tr>\n      <th>4</th>\n      <td>Tue</td>\n      <td>4.0</td>\n      <td>25</td>\n      <td>4.0</td>\n      <td>25</td>\n    </tr>\n  </tbody>\n</table>\n</div>",
            "text/plain": "   Day  Wholesale Price ($/lb)  # Lobsters sold  Price  Lobs_Sold\n0  Fri                     7.0                4    7.0          4\n1  sat                     4.0               29    4.0         29\n2  Sun                     6.5               18    6.5         18\n3  Mon                     5.0               17    5.0         17\n4  Tue                     4.0               25    4.0         25"
          },
          "metadata": {}
        }
      ]
    },
    {
      "metadata": {
        "trusted": true
      },
      "cell_type": "code",
      "source": "## count differing values in 'Day' variable\n\npd.value_counts(fish['Day'])",
      "execution_count": 5,
      "outputs": [
        {
          "output_type": "execute_result",
          "execution_count": 5,
          "data": {
            "text/plain": "Fri     2\nMon     2\nWed     2\nThur    2\nTue     2\nSun     2\nSat     1\nsat     1\nName: Day, dtype: int64"
          },
          "metadata": {}
        }
      ]
    },
    {
      "metadata": {
        "trusted": true
      },
      "cell_type": "code",
      "source": "## lowercase all values in 'Day' variable\n\nfish['Day'] = fish['Day'].apply(lambda x: x.lower())\n\npd.value_counts(fish['Day'])",
      "execution_count": 6,
      "outputs": [
        {
          "output_type": "execute_result",
          "execution_count": 6,
          "data": {
            "text/plain": "wed     2\nfri     2\ntue     2\nthur    2\nsat     2\nmon     2\nsun     2\nName: Day, dtype: int64"
          },
          "metadata": {}
        }
      ]
    },
    {
      "metadata": {
        "trusted": true
      },
      "cell_type": "code",
      "source": "## create dummy variables for each day of the week\n\nfishy = pd.get_dummies(fish['Day'])\nfishy.head()",
      "execution_count": 7,
      "outputs": [
        {
          "output_type": "execute_result",
          "execution_count": 7,
          "data": {
            "text/html": "<div>\n<style scoped>\n    .dataframe tbody tr th:only-of-type {\n        vertical-align: middle;\n    }\n\n    .dataframe tbody tr th {\n        vertical-align: top;\n    }\n\n    .dataframe thead th {\n        text-align: right;\n    }\n</style>\n<table border=\"1\" class=\"dataframe\">\n  <thead>\n    <tr style=\"text-align: right;\">\n      <th></th>\n      <th>fri</th>\n      <th>mon</th>\n      <th>sat</th>\n      <th>sun</th>\n      <th>thur</th>\n      <th>tue</th>\n      <th>wed</th>\n    </tr>\n  </thead>\n  <tbody>\n    <tr>\n      <th>0</th>\n      <td>1</td>\n      <td>0</td>\n      <td>0</td>\n      <td>0</td>\n      <td>0</td>\n      <td>0</td>\n      <td>0</td>\n    </tr>\n    <tr>\n      <th>1</th>\n      <td>0</td>\n      <td>0</td>\n      <td>1</td>\n      <td>0</td>\n      <td>0</td>\n      <td>0</td>\n      <td>0</td>\n    </tr>\n    <tr>\n      <th>2</th>\n      <td>0</td>\n      <td>0</td>\n      <td>0</td>\n      <td>1</td>\n      <td>0</td>\n      <td>0</td>\n      <td>0</td>\n    </tr>\n    <tr>\n      <th>3</th>\n      <td>0</td>\n      <td>1</td>\n      <td>0</td>\n      <td>0</td>\n      <td>0</td>\n      <td>0</td>\n      <td>0</td>\n    </tr>\n    <tr>\n      <th>4</th>\n      <td>0</td>\n      <td>0</td>\n      <td>0</td>\n      <td>0</td>\n      <td>0</td>\n      <td>1</td>\n      <td>0</td>\n    </tr>\n  </tbody>\n</table>\n</div>",
            "text/plain": "   fri  mon  sat  sun  thur  tue  wed\n0    1    0    0    0     0    0    0\n1    0    0    1    0     0    0    0\n2    0    0    0    1     0    0    0\n3    0    1    0    0     0    0    0\n4    0    0    0    0     0    1    0"
          },
          "metadata": {}
        }
      ]
    },
    {
      "metadata": {
        "trusted": true,
        "scrolled": false
      },
      "cell_type": "code",
      "source": "## create new dataset with renamed variables\n\nnewfish = fish[['Day','Price','Lobs_Sold']]\nnewfish.head()",
      "execution_count": 8,
      "outputs": [
        {
          "output_type": "execute_result",
          "execution_count": 8,
          "data": {
            "text/html": "<div>\n<style scoped>\n    .dataframe tbody tr th:only-of-type {\n        vertical-align: middle;\n    }\n\n    .dataframe tbody tr th {\n        vertical-align: top;\n    }\n\n    .dataframe thead th {\n        text-align: right;\n    }\n</style>\n<table border=\"1\" class=\"dataframe\">\n  <thead>\n    <tr style=\"text-align: right;\">\n      <th></th>\n      <th>Day</th>\n      <th>Price</th>\n      <th>Lobs_Sold</th>\n    </tr>\n  </thead>\n  <tbody>\n    <tr>\n      <th>0</th>\n      <td>fri</td>\n      <td>7.0</td>\n      <td>4</td>\n    </tr>\n    <tr>\n      <th>1</th>\n      <td>sat</td>\n      <td>4.0</td>\n      <td>29</td>\n    </tr>\n    <tr>\n      <th>2</th>\n      <td>sun</td>\n      <td>6.5</td>\n      <td>18</td>\n    </tr>\n    <tr>\n      <th>3</th>\n      <td>mon</td>\n      <td>5.0</td>\n      <td>17</td>\n    </tr>\n    <tr>\n      <th>4</th>\n      <td>tue</td>\n      <td>4.0</td>\n      <td>25</td>\n    </tr>\n  </tbody>\n</table>\n</div>",
            "text/plain": "   Day  Price  Lobs_Sold\n0  fri    7.0          4\n1  sat    4.0         29\n2  sun    6.5         18\n3  mon    5.0         17\n4  tue    4.0         25"
          },
          "metadata": {}
        }
      ]
    },
    {
      "metadata": {
        "trusted": true,
        "scrolled": true
      },
      "cell_type": "code",
      "source": "## join new dataset with dummy variables\n\nnewfish = newfish.join(fishy)\nnewfish.head()",
      "execution_count": 9,
      "outputs": [
        {
          "output_type": "execute_result",
          "execution_count": 9,
          "data": {
            "text/html": "<div>\n<style scoped>\n    .dataframe tbody tr th:only-of-type {\n        vertical-align: middle;\n    }\n\n    .dataframe tbody tr th {\n        vertical-align: top;\n    }\n\n    .dataframe thead th {\n        text-align: right;\n    }\n</style>\n<table border=\"1\" class=\"dataframe\">\n  <thead>\n    <tr style=\"text-align: right;\">\n      <th></th>\n      <th>Day</th>\n      <th>Price</th>\n      <th>Lobs_Sold</th>\n      <th>fri</th>\n      <th>mon</th>\n      <th>sat</th>\n      <th>sun</th>\n      <th>thur</th>\n      <th>tue</th>\n      <th>wed</th>\n    </tr>\n  </thead>\n  <tbody>\n    <tr>\n      <th>0</th>\n      <td>fri</td>\n      <td>7.0</td>\n      <td>4</td>\n      <td>1</td>\n      <td>0</td>\n      <td>0</td>\n      <td>0</td>\n      <td>0</td>\n      <td>0</td>\n      <td>0</td>\n    </tr>\n    <tr>\n      <th>1</th>\n      <td>sat</td>\n      <td>4.0</td>\n      <td>29</td>\n      <td>0</td>\n      <td>0</td>\n      <td>1</td>\n      <td>0</td>\n      <td>0</td>\n      <td>0</td>\n      <td>0</td>\n    </tr>\n    <tr>\n      <th>2</th>\n      <td>sun</td>\n      <td>6.5</td>\n      <td>18</td>\n      <td>0</td>\n      <td>0</td>\n      <td>0</td>\n      <td>1</td>\n      <td>0</td>\n      <td>0</td>\n      <td>0</td>\n    </tr>\n    <tr>\n      <th>3</th>\n      <td>mon</td>\n      <td>5.0</td>\n      <td>17</td>\n      <td>0</td>\n      <td>1</td>\n      <td>0</td>\n      <td>0</td>\n      <td>0</td>\n      <td>0</td>\n      <td>0</td>\n    </tr>\n    <tr>\n      <th>4</th>\n      <td>tue</td>\n      <td>4.0</td>\n      <td>25</td>\n      <td>0</td>\n      <td>0</td>\n      <td>0</td>\n      <td>0</td>\n      <td>0</td>\n      <td>1</td>\n      <td>0</td>\n    </tr>\n  </tbody>\n</table>\n</div>",
            "text/plain": "   Day  Price  Lobs_Sold  fri  mon  sat  sun  thur  tue  wed\n0  fri    7.0          4    1    0    0    0     0    0    0\n1  sat    4.0         29    0    0    1    0     0    0    0\n2  sun    6.5         18    0    0    0    1     0    0    0\n3  mon    5.0         17    0    1    0    0     0    0    0\n4  tue    4.0         25    0    0    0    0     0    1    0"
          },
          "metadata": {}
        }
      ]
    },
    {
      "metadata": {
        "trusted": true,
        "scrolled": true
      },
      "cell_type": "code",
      "source": "## run correlation matrix \n\nnewfish.corr()",
      "execution_count": 10,
      "outputs": [
        {
          "output_type": "execute_result",
          "execution_count": 10,
          "data": {
            "text/html": "<div>\n<style scoped>\n    .dataframe tbody tr th:only-of-type {\n        vertical-align: middle;\n    }\n\n    .dataframe tbody tr th {\n        vertical-align: top;\n    }\n\n    .dataframe thead th {\n        text-align: right;\n    }\n</style>\n<table border=\"1\" class=\"dataframe\">\n  <thead>\n    <tr style=\"text-align: right;\">\n      <th></th>\n      <th>Price</th>\n      <th>Lobs_Sold</th>\n      <th>fri</th>\n      <th>mon</th>\n      <th>sat</th>\n      <th>sun</th>\n      <th>thur</th>\n      <th>tue</th>\n      <th>wed</th>\n    </tr>\n  </thead>\n  <tbody>\n    <tr>\n      <th>Price</th>\n      <td>1.000000</td>\n      <td>-0.627493</td>\n      <td>0.507778</td>\n      <td>0.152333</td>\n      <td>-0.060933</td>\n      <td>0.223422</td>\n      <td>0.152333</td>\n      <td>-0.345289</td>\n      <td>-0.629644</td>\n    </tr>\n    <tr>\n      <th>Lobs_Sold</th>\n      <td>-0.627493</td>\n      <td>1.000000</td>\n      <td>-0.562715</td>\n      <td>-0.175645</td>\n      <td>0.211425</td>\n      <td>0.188656</td>\n      <td>-0.243952</td>\n      <td>0.484651</td>\n      <td>0.097581</td>\n    </tr>\n    <tr>\n      <th>fri</th>\n      <td>0.507778</td>\n      <td>-0.562715</td>\n      <td>1.000000</td>\n      <td>-0.166667</td>\n      <td>-0.166667</td>\n      <td>-0.166667</td>\n      <td>-0.166667</td>\n      <td>-0.166667</td>\n      <td>-0.166667</td>\n    </tr>\n    <tr>\n      <th>mon</th>\n      <td>0.152333</td>\n      <td>-0.175645</td>\n      <td>-0.166667</td>\n      <td>1.000000</td>\n      <td>-0.166667</td>\n      <td>-0.166667</td>\n      <td>-0.166667</td>\n      <td>-0.166667</td>\n      <td>-0.166667</td>\n    </tr>\n    <tr>\n      <th>sat</th>\n      <td>-0.060933</td>\n      <td>0.211425</td>\n      <td>-0.166667</td>\n      <td>-0.166667</td>\n      <td>1.000000</td>\n      <td>-0.166667</td>\n      <td>-0.166667</td>\n      <td>-0.166667</td>\n      <td>-0.166667</td>\n    </tr>\n    <tr>\n      <th>sun</th>\n      <td>0.223422</td>\n      <td>0.188656</td>\n      <td>-0.166667</td>\n      <td>-0.166667</td>\n      <td>-0.166667</td>\n      <td>1.000000</td>\n      <td>-0.166667</td>\n      <td>-0.166667</td>\n      <td>-0.166667</td>\n    </tr>\n    <tr>\n      <th>thur</th>\n      <td>0.152333</td>\n      <td>-0.243952</td>\n      <td>-0.166667</td>\n      <td>-0.166667</td>\n      <td>-0.166667</td>\n      <td>-0.166667</td>\n      <td>1.000000</td>\n      <td>-0.166667</td>\n      <td>-0.166667</td>\n    </tr>\n    <tr>\n      <th>tue</th>\n      <td>-0.345289</td>\n      <td>0.484651</td>\n      <td>-0.166667</td>\n      <td>-0.166667</td>\n      <td>-0.166667</td>\n      <td>-0.166667</td>\n      <td>-0.166667</td>\n      <td>1.000000</td>\n      <td>-0.166667</td>\n    </tr>\n    <tr>\n      <th>wed</th>\n      <td>-0.629644</td>\n      <td>0.097581</td>\n      <td>-0.166667</td>\n      <td>-0.166667</td>\n      <td>-0.166667</td>\n      <td>-0.166667</td>\n      <td>-0.166667</td>\n      <td>-0.166667</td>\n      <td>1.000000</td>\n    </tr>\n  </tbody>\n</table>\n</div>",
            "text/plain": "              Price  Lobs_Sold       fri       mon       sat       sun  \\\nPrice      1.000000  -0.627493  0.507778  0.152333 -0.060933  0.223422   \nLobs_Sold -0.627493   1.000000 -0.562715 -0.175645  0.211425  0.188656   \nfri        0.507778  -0.562715  1.000000 -0.166667 -0.166667 -0.166667   \nmon        0.152333  -0.175645 -0.166667  1.000000 -0.166667 -0.166667   \nsat       -0.060933   0.211425 -0.166667 -0.166667  1.000000 -0.166667   \nsun        0.223422   0.188656 -0.166667 -0.166667 -0.166667  1.000000   \nthur       0.152333  -0.243952 -0.166667 -0.166667 -0.166667 -0.166667   \ntue       -0.345289   0.484651 -0.166667 -0.166667 -0.166667 -0.166667   \nwed       -0.629644   0.097581 -0.166667 -0.166667 -0.166667 -0.166667   \n\n               thur       tue       wed  \nPrice      0.152333 -0.345289 -0.629644  \nLobs_Sold -0.243952  0.484651  0.097581  \nfri       -0.166667 -0.166667 -0.166667  \nmon       -0.166667 -0.166667 -0.166667  \nsat       -0.166667 -0.166667 -0.166667  \nsun       -0.166667 -0.166667 -0.166667  \nthur       1.000000 -0.166667 -0.166667  \ntue       -0.166667  1.000000 -0.166667  \nwed       -0.166667 -0.166667  1.000000  "
          },
          "metadata": {}
        }
      ]
    },
    {
      "metadata": {},
      "cell_type": "markdown",
      "source": "The quantity of lobsters sold has a strong negative correlation to lobster price (r = -.63)."
    },
    {
      "metadata": {
        "trusted": true,
        "collapsed": true
      },
      "cell_type": "code",
      "source": "## Regression model predicting Number of Lobsters Sold; using Saturday as reference category for 'Day of the Week'\n\nresult1 = sm.ols(formula = 'Lobs_Sold ~ Price + sun + mon + tue + wed + thur + fri - 1', data=newfish).fit()\nresult1.summary()",
      "execution_count": 24,
      "outputs": [
        {
          "output_type": "stream",
          "text": "/home/nbuser/anaconda3_501/lib/python3.6/site-packages/scipy/stats/stats.py:1334: UserWarning: kurtosistest only valid for n>=20 ... continuing anyway, n=14\n  \"anyway, n=%i\" % int(n))\n",
          "name": "stderr"
        },
        {
          "output_type": "execute_result",
          "execution_count": 24,
          "data": {
            "text/html": "<table class=\"simpletable\">\n<caption>OLS Regression Results</caption>\n<tr>\n  <th>Dep. Variable:</th>        <td>Lobs_Sold</td>    <th>  R-squared:         </th> <td>   0.851</td>\n</tr>\n<tr>\n  <th>Model:</th>                   <td>OLS</td>       <th>  Adj. R-squared:    </th> <td>   0.703</td>\n</tr>\n<tr>\n  <th>Method:</th>             <td>Least Squares</td>  <th>  F-statistic:       </th> <td>   5.723</td>\n</tr>\n<tr>\n  <th>Date:</th>             <td>Fri, 05 Oct 2018</td> <th>  Prob (F-statistic):</th>  <td>0.0174</td> \n</tr>\n<tr>\n  <th>Time:</th>                 <td>20:40:27</td>     <th>  Log-Likelihood:    </th> <td> -47.490</td>\n</tr>\n<tr>\n  <th>No. Observations:</th>      <td>    14</td>      <th>  AIC:               </th> <td>   109.0</td>\n</tr>\n<tr>\n  <th>Df Residuals:</th>          <td>     7</td>      <th>  BIC:               </th> <td>   113.5</td>\n</tr>\n<tr>\n  <th>Df Model:</th>              <td>     7</td>      <th>                     </th>     <td> </td>   \n</tr>\n<tr>\n  <th>Covariance Type:</th>      <td>nonrobust</td>    <th>                     </th>     <td> </td>   \n</tr>\n</table>\n<table class=\"simpletable\">\n<tr>\n    <td></td>       <th>coef</th>     <th>std err</th>      <th>t</th>      <th>P>|t|</th>  <th>[0.025</th>    <th>0.975]</th>  \n</tr>\n<tr>\n  <th>Price</th> <td>    3.1747</td> <td>    1.345</td> <td>    2.361</td> <td> 0.050</td> <td>   -0.005</td> <td>    6.354</td>\n</tr>\n<tr>\n  <th>sun</th>   <td>    1.4520</td> <td>   10.809</td> <td>    0.134</td> <td> 0.897</td> <td>  -24.107</td> <td>   27.011</td>\n</tr>\n<tr>\n  <th>mon</th>   <td>   -5.7544</td> <td>   10.560</td> <td>   -0.545</td> <td> 0.603</td> <td>  -30.726</td> <td>   19.217</td>\n</tr>\n<tr>\n  <th>tue</th>   <td>   14.3013</td> <td>    8.982</td> <td>    1.592</td> <td> 0.155</td> <td>   -6.938</td> <td>   35.540</td>\n</tr>\n<tr>\n  <th>wed</th>   <td>    8.9760</td> <td>    8.247</td> <td>    1.088</td> <td> 0.312</td> <td>  -10.526</td> <td>   28.478</td>\n</tr>\n<tr>\n  <th>thur</th>  <td>   -7.2544</td> <td>   10.560</td> <td>   -0.687</td> <td> 0.514</td> <td>  -32.226</td> <td>   17.717</td>\n</tr>\n<tr>\n  <th>fri</th>   <td>  -18.2227</td> <td>   11.846</td> <td>   -1.538</td> <td> 0.168</td> <td>  -46.235</td> <td>    9.789</td>\n</tr>\n</table>\n<table class=\"simpletable\">\n<tr>\n  <th>Omnibus:</th>       <td> 0.934</td> <th>  Durbin-Watson:     </th> <td>   2.068</td>\n</tr>\n<tr>\n  <th>Prob(Omnibus):</th> <td> 0.627</td> <th>  Jarque-Bera (JB):  </th> <td>   0.778</td>\n</tr>\n<tr>\n  <th>Skew:</th>          <td> 0.493</td> <th>  Prob(JB):          </th> <td>   0.678</td>\n</tr>\n<tr>\n  <th>Kurtosis:</th>      <td> 2.399</td> <th>  Cond. No.          </th> <td>    38.4</td>\n</tr>\n</table>",
            "text/plain": "<class 'statsmodels.iolib.summary.Summary'>\n\"\"\"\n                            OLS Regression Results                            \n==============================================================================\nDep. Variable:              Lobs_Sold   R-squared:                       0.851\nModel:                            OLS   Adj. R-squared:                  0.703\nMethod:                 Least Squares   F-statistic:                     5.723\nDate:                Fri, 05 Oct 2018   Prob (F-statistic):             0.0174\nTime:                        20:40:27   Log-Likelihood:                -47.490\nNo. Observations:                  14   AIC:                             109.0\nDf Residuals:                       7   BIC:                             113.5\nDf Model:                           7                                         \nCovariance Type:            nonrobust                                         \n==============================================================================\n                 coef    std err          t      P>|t|      [0.025      0.975]\n------------------------------------------------------------------------------\nPrice          3.1747      1.345      2.361      0.050      -0.005       6.354\nsun            1.4520     10.809      0.134      0.897     -24.107      27.011\nmon           -5.7544     10.560     -0.545      0.603     -30.726      19.217\ntue           14.3013      8.982      1.592      0.155      -6.938      35.540\nwed            8.9760      8.247      1.088      0.312     -10.526      28.478\nthur          -7.2544     10.560     -0.687      0.514     -32.226      17.717\nfri          -18.2227     11.846     -1.538      0.168     -46.235       9.789\n==============================================================================\nOmnibus:                        0.934   Durbin-Watson:                   2.068\nProb(Omnibus):                  0.627   Jarque-Bera (JB):                0.778\nSkew:                           0.493   Prob(JB):                        0.678\nKurtosis:                       2.399   Cond. No.                         38.4\n==============================================================================\n\nWarnings:\n[1] Standard Errors assume that the covariance matrix of the errors is correctly specified.\n\"\"\""
          },
          "metadata": {}
        }
      ]
    },
    {
      "metadata": {
        "trusted": true,
        "collapsed": true
      },
      "cell_type": "code",
      "source": "## Regression model predicting Number of Lobsters Sold; using Friday as reference category for 'Day of the Week'\n\nresult2 = sm.ols(formula = 'Lobs_Sold ~ Price + sat + sun + mon + tue + wed + thur - 1', data=newfish).fit()\nresult2.summary()",
      "execution_count": 25,
      "outputs": [
        {
          "output_type": "stream",
          "text": "/home/nbuser/anaconda3_501/lib/python3.6/site-packages/scipy/stats/stats.py:1334: UserWarning: kurtosistest only valid for n>=20 ... continuing anyway, n=14\n  \"anyway, n=%i\" % int(n))\n",
          "name": "stderr"
        },
        {
          "output_type": "execute_result",
          "execution_count": 25,
          "data": {
            "text/html": "<table class=\"simpletable\">\n<caption>OLS Regression Results</caption>\n<tr>\n  <th>Dep. Variable:</th>        <td>Lobs_Sold</td>    <th>  R-squared:         </th> <td>   0.909</td>\n</tr>\n<tr>\n  <th>Model:</th>                   <td>OLS</td>       <th>  Adj. R-squared:    </th> <td>   0.818</td>\n</tr>\n<tr>\n  <th>Method:</th>             <td>Least Squares</td>  <th>  F-statistic:       </th> <td>   9.966</td>\n</tr>\n<tr>\n  <th>Date:</th>             <td>Fri, 05 Oct 2018</td> <th>  Prob (F-statistic):</th>  <td>0.00355</td>\n</tr>\n<tr>\n  <th>Time:</th>                 <td>20:40:49</td>     <th>  Log-Likelihood:    </th> <td> -44.065</td>\n</tr>\n<tr>\n  <th>No. Observations:</th>      <td>    14</td>      <th>  AIC:               </th> <td>   102.1</td>\n</tr>\n<tr>\n  <th>Df Residuals:</th>          <td>     7</td>      <th>  BIC:               </th> <td>   106.6</td>\n</tr>\n<tr>\n  <th>Df Model:</th>              <td>     7</td>      <th>                     </th>     <td> </td>   \n</tr>\n<tr>\n  <th>Covariance Type:</th>      <td>nonrobust</td>    <th>                     </th>     <td> </td>   \n</tr>\n</table>\n<table class=\"simpletable\">\n<tr>\n    <td></td>       <th>coef</th>     <th>std err</th>      <th>t</th>      <th>P>|t|</th>  <th>[0.025</th>    <th>0.975]</th>  \n</tr>\n<tr>\n  <th>Price</th> <td>    0.2637</td> <td>    0.776</td> <td>    0.340</td> <td> 0.744</td> <td>   -1.572</td> <td>    2.100</td>\n</tr>\n<tr>\n  <th>sat</th>   <td>   19.6817</td> <td>    6.841</td> <td>    2.877</td> <td> 0.024</td> <td>    3.505</td> <td>   35.858</td>\n</tr>\n<tr>\n  <th>sun</th>   <td>   18.9181</td> <td>    7.310</td> <td>    2.588</td> <td> 0.036</td> <td>    1.633</td> <td>   36.203</td>\n</tr>\n<tr>\n  <th>mon</th>   <td>   10.9840</td> <td>    7.188</td> <td>    1.528</td> <td> 0.170</td> <td>   -6.012</td> <td>   27.980</td>\n</tr>\n<tr>\n  <th>tue</th>   <td>   25.9454</td> <td>    6.432</td> <td>    4.034</td> <td> 0.005</td> <td>   10.736</td> <td>   41.155</td>\n</tr>\n<tr>\n  <th>wed</th>   <td>   17.7090</td> <td>    6.095</td> <td>    2.905</td> <td> 0.023</td> <td>    3.296</td> <td>   32.122</td>\n</tr>\n<tr>\n  <th>thur</th>  <td>    9.4840</td> <td>    7.188</td> <td>    1.320</td> <td> 0.229</td> <td>   -7.512</td> <td>   26.480</td>\n</tr>\n</table>\n<table class=\"simpletable\">\n<tr>\n  <th>Omnibus:</th>       <td> 0.810</td> <th>  Durbin-Watson:     </th> <td>   1.985</td>\n</tr>\n<tr>\n  <th>Prob(Omnibus):</th> <td> 0.667</td> <th>  Jarque-Bera (JB):  </th> <td>   0.666</td>\n</tr>\n<tr>\n  <th>Skew:</th>          <td>-0.156</td> <th>  Prob(JB):          </th> <td>   0.717</td>\n</tr>\n<tr>\n  <th>Kurtosis:</th>      <td> 1.979</td> <th>  Cond. No.          </th> <td>    28.3</td>\n</tr>\n</table>",
            "text/plain": "<class 'statsmodels.iolib.summary.Summary'>\n\"\"\"\n                            OLS Regression Results                            \n==============================================================================\nDep. Variable:              Lobs_Sold   R-squared:                       0.909\nModel:                            OLS   Adj. R-squared:                  0.818\nMethod:                 Least Squares   F-statistic:                     9.966\nDate:                Fri, 05 Oct 2018   Prob (F-statistic):            0.00355\nTime:                        20:40:49   Log-Likelihood:                -44.065\nNo. Observations:                  14   AIC:                             102.1\nDf Residuals:                       7   BIC:                             106.6\nDf Model:                           7                                         \nCovariance Type:            nonrobust                                         \n==============================================================================\n                 coef    std err          t      P>|t|      [0.025      0.975]\n------------------------------------------------------------------------------\nPrice          0.2637      0.776      0.340      0.744      -1.572       2.100\nsat           19.6817      6.841      2.877      0.024       3.505      35.858\nsun           18.9181      7.310      2.588      0.036       1.633      36.203\nmon           10.9840      7.188      1.528      0.170      -6.012      27.980\ntue           25.9454      6.432      4.034      0.005      10.736      41.155\nwed           17.7090      6.095      2.905      0.023       3.296      32.122\nthur           9.4840      7.188      1.320      0.229      -7.512      26.480\n==============================================================================\nOmnibus:                        0.810   Durbin-Watson:                   1.985\nProb(Omnibus):                  0.667   Jarque-Bera (JB):                0.666\nSkew:                          -0.156   Prob(JB):                        0.717\nKurtosis:                       1.979   Cond. No.                         28.3\n==============================================================================\n\nWarnings:\n[1] Standard Errors assume that the covariance matrix of the errors is correctly specified.\n\"\"\""
          },
          "metadata": {}
        }
      ]
    },
    {
      "metadata": {},
      "cell_type": "markdown",
      "source": "# Regression Equation \n\nNumber Lobsters Sold = (.26 x Wholesale Price) + (19.68 x ifSaturday) + (18.92 x ifSunday) + (10.98 x ifMonday) + (25.95 x ifTuesday) +(17.71 x ifWednesday) + (9.48 x ifThursday)"
    },
    {
      "metadata": {},
      "cell_type": "markdown",
      "source": "# Gleeful Consulting "
    },
    {
      "metadata": {
        "trusted": true,
        "collapsed": true
      },
      "cell_type": "code",
      "source": "loc2 = \"Datasets/GleeClubData.xlsx\"\nglee = pd.read_excel(loc2)\nglee.head()",
      "execution_count": 14,
      "outputs": [
        {
          "output_type": "execute_result",
          "execution_count": 14,
          "data": {
            "text/html": "<div>\n<style scoped>\n    .dataframe tbody tr th:only-of-type {\n        vertical-align: middle;\n    }\n\n    .dataframe tbody tr th {\n        vertical-align: top;\n    }\n\n    .dataframe thead th {\n        text-align: right;\n    }\n</style>\n<table border=\"1\" class=\"dataframe\">\n  <thead>\n    <tr style=\"text-align: right;\">\n      <th></th>\n      <th>team size</th>\n      <th>male/female ratio of team</th>\n      <th>enrollment in school</th>\n      <th>male/female ratio of School</th>\n      <th>population of district served by school</th>\n      <th># of practices per month</th>\n      <th># of competitions before regionals</th>\n      <th>Regionals Score</th>\n    </tr>\n  </thead>\n  <tbody>\n    <tr>\n      <th>0</th>\n      <td>9</td>\n      <td>1.1</td>\n      <td>469</td>\n      <td>0.5</td>\n      <td>11432</td>\n      <td>1</td>\n      <td>3</td>\n      <td>3.160421</td>\n    </tr>\n    <tr>\n      <th>1</th>\n      <td>12</td>\n      <td>0.9</td>\n      <td>2028</td>\n      <td>1.1</td>\n      <td>64874</td>\n      <td>12</td>\n      <td>7</td>\n      <td>4.789190</td>\n    </tr>\n    <tr>\n      <th>2</th>\n      <td>23</td>\n      <td>1.4</td>\n      <td>1393</td>\n      <td>1.4</td>\n      <td>13843</td>\n      <td>10</td>\n      <td>3</td>\n      <td>3.676977</td>\n    </tr>\n    <tr>\n      <th>3</th>\n      <td>17</td>\n      <td>0.9</td>\n      <td>425</td>\n      <td>0.8</td>\n      <td>40959</td>\n      <td>9</td>\n      <td>0</td>\n      <td>3.641177</td>\n    </tr>\n    <tr>\n      <th>4</th>\n      <td>37</td>\n      <td>0.5</td>\n      <td>2111</td>\n      <td>1.0</td>\n      <td>26203</td>\n      <td>15</td>\n      <td>4</td>\n      <td>4.164019</td>\n    </tr>\n  </tbody>\n</table>\n</div>",
            "text/plain": "   team size  male/female ratio of team  enrollment in school  \\\n0          9                        1.1                   469   \n1         12                        0.9                  2028   \n2         23                        1.4                  1393   \n3         17                        0.9                   425   \n4         37                        0.5                  2111   \n\n   male/female ratio of School  population of district served by school  \\\n0                          0.5                                    11432   \n1                          1.1                                    64874   \n2                          1.4                                    13843   \n3                          0.8                                    40959   \n4                          1.0                                    26203   \n\n   # of practices per month  # of competitions before regionals  \\\n0                         1                                   3   \n1                        12                                   7   \n2                        10                                   3   \n3                         9                                   0   \n4                        15                                   4   \n\n   Regionals Score  \n0         3.160421  \n1         4.789190  \n2         3.676977  \n3         3.641177  \n4         4.164019  "
          },
          "metadata": {}
        }
      ]
    },
    {
      "metadata": {
        "trusted": true,
        "collapsed": true
      },
      "cell_type": "code",
      "source": "## rename variables\n\nglee['tm_size'] = glee['team size']\nglee['mf_ratio_team'] = glee['male/female ratio of team']\nglee['enrolled'] = glee['enrollment in school']\nglee['mf_ratio_school'] = glee['male/female ratio of School']\nglee['pop_district'] = glee['population of district served by school']\nglee['prac_per_mnth'] = glee['# of practices per month']\nglee['num_comps'] = glee['# of competitions before regionals']\nglee['r_score'] = glee['Regionals Score']\n\nglee.head()",
      "execution_count": 15,
      "outputs": [
        {
          "output_type": "execute_result",
          "execution_count": 15,
          "data": {
            "text/html": "<div>\n<style scoped>\n    .dataframe tbody tr th:only-of-type {\n        vertical-align: middle;\n    }\n\n    .dataframe tbody tr th {\n        vertical-align: top;\n    }\n\n    .dataframe thead th {\n        text-align: right;\n    }\n</style>\n<table border=\"1\" class=\"dataframe\">\n  <thead>\n    <tr style=\"text-align: right;\">\n      <th></th>\n      <th>team size</th>\n      <th>male/female ratio of team</th>\n      <th>enrollment in school</th>\n      <th>male/female ratio of School</th>\n      <th>population of district served by school</th>\n      <th># of practices per month</th>\n      <th># of competitions before regionals</th>\n      <th>Regionals Score</th>\n      <th>tm_size</th>\n      <th>mf_ratio_team</th>\n      <th>enrolled</th>\n      <th>mf_ratio_school</th>\n      <th>pop_district</th>\n      <th>prac_per_mnth</th>\n      <th>num_comps</th>\n      <th>r_score</th>\n    </tr>\n  </thead>\n  <tbody>\n    <tr>\n      <th>0</th>\n      <td>9</td>\n      <td>1.1</td>\n      <td>469</td>\n      <td>0.5</td>\n      <td>11432</td>\n      <td>1</td>\n      <td>3</td>\n      <td>3.160421</td>\n      <td>9</td>\n      <td>1.1</td>\n      <td>469</td>\n      <td>0.5</td>\n      <td>11432</td>\n      <td>1</td>\n      <td>3</td>\n      <td>3.160421</td>\n    </tr>\n    <tr>\n      <th>1</th>\n      <td>12</td>\n      <td>0.9</td>\n      <td>2028</td>\n      <td>1.1</td>\n      <td>64874</td>\n      <td>12</td>\n      <td>7</td>\n      <td>4.789190</td>\n      <td>12</td>\n      <td>0.9</td>\n      <td>2028</td>\n      <td>1.1</td>\n      <td>64874</td>\n      <td>12</td>\n      <td>7</td>\n      <td>4.789190</td>\n    </tr>\n    <tr>\n      <th>2</th>\n      <td>23</td>\n      <td>1.4</td>\n      <td>1393</td>\n      <td>1.4</td>\n      <td>13843</td>\n      <td>10</td>\n      <td>3</td>\n      <td>3.676977</td>\n      <td>23</td>\n      <td>1.4</td>\n      <td>1393</td>\n      <td>1.4</td>\n      <td>13843</td>\n      <td>10</td>\n      <td>3</td>\n      <td>3.676977</td>\n    </tr>\n    <tr>\n      <th>3</th>\n      <td>17</td>\n      <td>0.9</td>\n      <td>425</td>\n      <td>0.8</td>\n      <td>40959</td>\n      <td>9</td>\n      <td>0</td>\n      <td>3.641177</td>\n      <td>17</td>\n      <td>0.9</td>\n      <td>425</td>\n      <td>0.8</td>\n      <td>40959</td>\n      <td>9</td>\n      <td>0</td>\n      <td>3.641177</td>\n    </tr>\n    <tr>\n      <th>4</th>\n      <td>37</td>\n      <td>0.5</td>\n      <td>2111</td>\n      <td>1.0</td>\n      <td>26203</td>\n      <td>15</td>\n      <td>4</td>\n      <td>4.164019</td>\n      <td>37</td>\n      <td>0.5</td>\n      <td>2111</td>\n      <td>1.0</td>\n      <td>26203</td>\n      <td>15</td>\n      <td>4</td>\n      <td>4.164019</td>\n    </tr>\n  </tbody>\n</table>\n</div>",
            "text/plain": "   team size  male/female ratio of team  enrollment in school  \\\n0          9                        1.1                   469   \n1         12                        0.9                  2028   \n2         23                        1.4                  1393   \n3         17                        0.9                   425   \n4         37                        0.5                  2111   \n\n   male/female ratio of School  population of district served by school  \\\n0                          0.5                                    11432   \n1                          1.1                                    64874   \n2                          1.4                                    13843   \n3                          0.8                                    40959   \n4                          1.0                                    26203   \n\n   # of practices per month  # of competitions before regionals  \\\n0                         1                                   3   \n1                        12                                   7   \n2                        10                                   3   \n3                         9                                   0   \n4                        15                                   4   \n\n   Regionals Score  tm_size  mf_ratio_team  enrolled  mf_ratio_school  \\\n0         3.160421        9            1.1       469              0.5   \n1         4.789190       12            0.9      2028              1.1   \n2         3.676977       23            1.4      1393              1.4   \n3         3.641177       17            0.9       425              0.8   \n4         4.164019       37            0.5      2111              1.0   \n\n   pop_district  prac_per_mnth  num_comps   r_score  \n0         11432              1          3  3.160421  \n1         64874             12          7  4.789190  \n2         13843             10          3  3.676977  \n3         40959              9          0  3.641177  \n4         26203             15          4  4.164019  "
          },
          "metadata": {}
        }
      ]
    },
    {
      "metadata": {
        "trusted": true,
        "collapsed": true
      },
      "cell_type": "code",
      "source": "## create new dataset with renamed variables\n\nnewglee = glee[['tm_size','mf_ratio_team','enrolled','mf_ratio_school','pop_district','prac_per_mnth','num_comps','r_score']]\nnewglee.head()",
      "execution_count": 16,
      "outputs": [
        {
          "output_type": "execute_result",
          "execution_count": 16,
          "data": {
            "text/html": "<div>\n<style scoped>\n    .dataframe tbody tr th:only-of-type {\n        vertical-align: middle;\n    }\n\n    .dataframe tbody tr th {\n        vertical-align: top;\n    }\n\n    .dataframe thead th {\n        text-align: right;\n    }\n</style>\n<table border=\"1\" class=\"dataframe\">\n  <thead>\n    <tr style=\"text-align: right;\">\n      <th></th>\n      <th>tm_size</th>\n      <th>mf_ratio_team</th>\n      <th>enrolled</th>\n      <th>mf_ratio_school</th>\n      <th>pop_district</th>\n      <th>prac_per_mnth</th>\n      <th>num_comps</th>\n      <th>r_score</th>\n    </tr>\n  </thead>\n  <tbody>\n    <tr>\n      <th>0</th>\n      <td>9</td>\n      <td>1.1</td>\n      <td>469</td>\n      <td>0.5</td>\n      <td>11432</td>\n      <td>1</td>\n      <td>3</td>\n      <td>3.160421</td>\n    </tr>\n    <tr>\n      <th>1</th>\n      <td>12</td>\n      <td>0.9</td>\n      <td>2028</td>\n      <td>1.1</td>\n      <td>64874</td>\n      <td>12</td>\n      <td>7</td>\n      <td>4.789190</td>\n    </tr>\n    <tr>\n      <th>2</th>\n      <td>23</td>\n      <td>1.4</td>\n      <td>1393</td>\n      <td>1.4</td>\n      <td>13843</td>\n      <td>10</td>\n      <td>3</td>\n      <td>3.676977</td>\n    </tr>\n    <tr>\n      <th>3</th>\n      <td>17</td>\n      <td>0.9</td>\n      <td>425</td>\n      <td>0.8</td>\n      <td>40959</td>\n      <td>9</td>\n      <td>0</td>\n      <td>3.641177</td>\n    </tr>\n    <tr>\n      <th>4</th>\n      <td>37</td>\n      <td>0.5</td>\n      <td>2111</td>\n      <td>1.0</td>\n      <td>26203</td>\n      <td>15</td>\n      <td>4</td>\n      <td>4.164019</td>\n    </tr>\n  </tbody>\n</table>\n</div>",
            "text/plain": "   tm_size  mf_ratio_team  enrolled  mf_ratio_school  pop_district  \\\n0        9            1.1       469              0.5         11432   \n1       12            0.9      2028              1.1         64874   \n2       23            1.4      1393              1.4         13843   \n3       17            0.9       425              0.8         40959   \n4       37            0.5      2111              1.0         26203   \n\n   prac_per_mnth  num_comps   r_score  \n0              1          3  3.160421  \n1             12          7  4.789190  \n2             10          3  3.676977  \n3              9          0  3.641177  \n4             15          4  4.164019  "
          },
          "metadata": {}
        }
      ]
    },
    {
      "metadata": {
        "trusted": true,
        "collapsed": true
      },
      "cell_type": "code",
      "source": "## run correlation matrix\n\nnewglee.corr()",
      "execution_count": 17,
      "outputs": [
        {
          "output_type": "execute_result",
          "execution_count": 17,
          "data": {
            "text/html": "<div>\n<style scoped>\n    .dataframe tbody tr th:only-of-type {\n        vertical-align: middle;\n    }\n\n    .dataframe tbody tr th {\n        vertical-align: top;\n    }\n\n    .dataframe thead th {\n        text-align: right;\n    }\n</style>\n<table border=\"1\" class=\"dataframe\">\n  <thead>\n    <tr style=\"text-align: right;\">\n      <th></th>\n      <th>tm_size</th>\n      <th>mf_ratio_team</th>\n      <th>enrolled</th>\n      <th>mf_ratio_school</th>\n      <th>pop_district</th>\n      <th>prac_per_mnth</th>\n      <th>num_comps</th>\n      <th>r_score</th>\n    </tr>\n  </thead>\n  <tbody>\n    <tr>\n      <th>tm_size</th>\n      <td>1.000000</td>\n      <td>0.039261</td>\n      <td>-0.002032</td>\n      <td>-0.027581</td>\n      <td>-0.027813</td>\n      <td>0.017570</td>\n      <td>-0.017728</td>\n      <td>0.037383</td>\n    </tr>\n    <tr>\n      <th>mf_ratio_team</th>\n      <td>0.039261</td>\n      <td>1.000000</td>\n      <td>0.014302</td>\n      <td>-0.022603</td>\n      <td>-0.043413</td>\n      <td>-0.039693</td>\n      <td>0.060830</td>\n      <td>-0.019025</td>\n    </tr>\n    <tr>\n      <th>enrolled</th>\n      <td>-0.002032</td>\n      <td>0.014302</td>\n      <td>1.000000</td>\n      <td>-0.007546</td>\n      <td>0.063731</td>\n      <td>-0.043782</td>\n      <td>-0.076423</td>\n      <td>0.031495</td>\n    </tr>\n    <tr>\n      <th>mf_ratio_school</th>\n      <td>-0.027581</td>\n      <td>-0.022603</td>\n      <td>-0.007546</td>\n      <td>1.000000</td>\n      <td>0.030516</td>\n      <td>0.002079</td>\n      <td>-0.048233</td>\n      <td>0.004502</td>\n    </tr>\n    <tr>\n      <th>pop_district</th>\n      <td>-0.027813</td>\n      <td>-0.043413</td>\n      <td>0.063731</td>\n      <td>0.030516</td>\n      <td>1.000000</td>\n      <td>0.018413</td>\n      <td>-0.083559</td>\n      <td>0.437973</td>\n    </tr>\n    <tr>\n      <th>prac_per_mnth</th>\n      <td>0.017570</td>\n      <td>-0.039693</td>\n      <td>-0.043782</td>\n      <td>0.002079</td>\n      <td>0.018413</td>\n      <td>1.000000</td>\n      <td>0.028975</td>\n      <td>0.634882</td>\n    </tr>\n    <tr>\n      <th>num_comps</th>\n      <td>-0.017728</td>\n      <td>0.060830</td>\n      <td>-0.076423</td>\n      <td>-0.048233</td>\n      <td>-0.083559</td>\n      <td>0.028975</td>\n      <td>1.000000</td>\n      <td>0.474863</td>\n    </tr>\n    <tr>\n      <th>r_score</th>\n      <td>0.037383</td>\n      <td>-0.019025</td>\n      <td>0.031495</td>\n      <td>0.004502</td>\n      <td>0.437973</td>\n      <td>0.634882</td>\n      <td>0.474863</td>\n      <td>1.000000</td>\n    </tr>\n  </tbody>\n</table>\n</div>",
            "text/plain": "                  tm_size  mf_ratio_team  enrolled  mf_ratio_school  \\\ntm_size          1.000000       0.039261 -0.002032        -0.027581   \nmf_ratio_team    0.039261       1.000000  0.014302        -0.022603   \nenrolled        -0.002032       0.014302  1.000000        -0.007546   \nmf_ratio_school -0.027581      -0.022603 -0.007546         1.000000   \npop_district    -0.027813      -0.043413  0.063731         0.030516   \nprac_per_mnth    0.017570      -0.039693 -0.043782         0.002079   \nnum_comps       -0.017728       0.060830 -0.076423        -0.048233   \nr_score          0.037383      -0.019025  0.031495         0.004502   \n\n                 pop_district  prac_per_mnth  num_comps   r_score  \ntm_size             -0.027813       0.017570  -0.017728  0.037383  \nmf_ratio_team       -0.043413      -0.039693   0.060830 -0.019025  \nenrolled             0.063731      -0.043782  -0.076423  0.031495  \nmf_ratio_school      0.030516       0.002079  -0.048233  0.004502  \npop_district         1.000000       0.018413  -0.083559  0.437973  \nprac_per_mnth        0.018413       1.000000   0.028975  0.634882  \nnum_comps           -0.083559       0.028975   1.000000  0.474863  \nr_score              0.437973       0.634882   0.474863  1.000000  "
          },
          "metadata": {}
        }
      ]
    },
    {
      "metadata": {},
      "cell_type": "markdown",
      "source": "# Relevant Factors\n\nThe correlation matrix shows that the items most strongly correlated with Regional Score are: Population of District Served by School (r = .44), Number of Practices per Month (r = .63), and Number of Competitions before Regionals (r = .47)."
    },
    {
      "metadata": {
        "trusted": true,
        "collapsed": true
      },
      "cell_type": "code",
      "source": "## Running Linear Regression Model with Intercept (AdjR2 = .83)\nmodel1 = sm.ols(formula = 'r_score ~ tm_size + mf_ratio_team + enrolled + mf_ratio_school + pop_district + prac_per_mnth + num_comps', data=newglee).fit()\nmodel1.summary()",
      "execution_count": 18,
      "outputs": [
        {
          "output_type": "execute_result",
          "execution_count": 18,
          "data": {
            "text/html": "<table class=\"simpletable\">\n<caption>OLS Regression Results</caption>\n<tr>\n  <th>Dep. Variable:</th>         <td>r_score</td>     <th>  R-squared:         </th> <td>   0.836</td> \n</tr>\n<tr>\n  <th>Model:</th>                   <td>OLS</td>       <th>  Adj. R-squared:    </th> <td>   0.832</td> \n</tr>\n<tr>\n  <th>Method:</th>             <td>Least Squares</td>  <th>  F-statistic:       </th> <td>   213.1</td> \n</tr>\n<tr>\n  <th>Date:</th>             <td>Fri, 05 Oct 2018</td> <th>  Prob (F-statistic):</th> <td>9.38e-111</td>\n</tr>\n<tr>\n  <th>Time:</th>                 <td>20:17:27</td>     <th>  Log-Likelihood:    </th> <td>  145.71</td> \n</tr>\n<tr>\n  <th>No. Observations:</th>      <td>   300</td>      <th>  AIC:               </th> <td>  -275.4</td> \n</tr>\n<tr>\n  <th>Df Residuals:</th>          <td>   292</td>      <th>  BIC:               </th> <td>  -245.8</td> \n</tr>\n<tr>\n  <th>Df Model:</th>              <td>     7</td>      <th>                     </th>     <td> </td>    \n</tr>\n<tr>\n  <th>Covariance Type:</th>      <td>nonrobust</td>    <th>                     </th>     <td> </td>    \n</tr>\n</table>\n<table class=\"simpletable\">\n<tr>\n         <td></td>            <th>coef</th>     <th>std err</th>      <th>t</th>      <th>P>|t|</th>  <th>[0.025</th>    <th>0.975]</th>  \n</tr>\n<tr>\n  <th>Intercept</th>       <td>    2.9498</td> <td>    0.055</td> <td>   53.518</td> <td> 0.000</td> <td>    2.841</td> <td>    3.058</td>\n</tr>\n<tr>\n  <th>tm_size</th>         <td>    0.0026</td> <td>    0.001</td> <td>    2.078</td> <td> 0.039</td> <td>    0.000</td> <td>    0.005</td>\n</tr>\n<tr>\n  <th>mf_ratio_team</th>   <td>   -0.0091</td> <td>    0.028</td> <td>   -0.322</td> <td> 0.748</td> <td>   -0.065</td> <td>    0.047</td>\n</tr>\n<tr>\n  <th>enrolled</th>        <td>  3.99e-05</td> <td> 1.41e-05</td> <td>    2.834</td> <td> 0.005</td> <td> 1.22e-05</td> <td> 6.76e-05</td>\n</tr>\n<tr>\n  <th>mf_ratio_school</th> <td>    0.0181</td> <td>    0.029</td> <td>    0.632</td> <td> 0.528</td> <td>   -0.038</td> <td>    0.074</td>\n</tr>\n<tr>\n  <th>pop_district</th>    <td> 4.285e-06</td> <td>  2.2e-07</td> <td>   19.502</td> <td> 0.000</td> <td> 3.85e-06</td> <td> 4.72e-06</td>\n</tr>\n<tr>\n  <th>prac_per_mnth</th>   <td>    0.0379</td> <td>    0.001</td> <td>   25.842</td> <td> 0.000</td> <td>    0.035</td> <td>    0.041</td>\n</tr>\n<tr>\n  <th>num_comps</th>       <td>    0.0613</td> <td>    0.003</td> <td>   21.046</td> <td> 0.000</td> <td>    0.056</td> <td>    0.067</td>\n</tr>\n</table>\n<table class=\"simpletable\">\n<tr>\n  <th>Omnibus:</th>       <td>26.857</td> <th>  Durbin-Watson:     </th> <td>   1.808</td>\n</tr>\n<tr>\n  <th>Prob(Omnibus):</th> <td> 0.000</td> <th>  Jarque-Bera (JB):  </th> <td> 105.904</td>\n</tr>\n<tr>\n  <th>Skew:</th>          <td> 0.170</td> <th>  Prob(JB):          </th> <td>1.01e-23</td>\n</tr>\n<tr>\n  <th>Kurtosis:</th>      <td> 5.891</td> <th>  Cond. No.          </th> <td>4.48e+05</td>\n</tr>\n</table>",
            "text/plain": "<class 'statsmodels.iolib.summary.Summary'>\n\"\"\"\n                            OLS Regression Results                            \n==============================================================================\nDep. Variable:                r_score   R-squared:                       0.836\nModel:                            OLS   Adj. R-squared:                  0.832\nMethod:                 Least Squares   F-statistic:                     213.1\nDate:                Fri, 05 Oct 2018   Prob (F-statistic):          9.38e-111\nTime:                        20:17:27   Log-Likelihood:                 145.71\nNo. Observations:                 300   AIC:                            -275.4\nDf Residuals:                     292   BIC:                            -245.8\nDf Model:                           7                                         \nCovariance Type:            nonrobust                                         \n===================================================================================\n                      coef    std err          t      P>|t|      [0.025      0.975]\n-----------------------------------------------------------------------------------\nIntercept           2.9498      0.055     53.518      0.000       2.841       3.058\ntm_size             0.0026      0.001      2.078      0.039       0.000       0.005\nmf_ratio_team      -0.0091      0.028     -0.322      0.748      -0.065       0.047\nenrolled          3.99e-05   1.41e-05      2.834      0.005    1.22e-05    6.76e-05\nmf_ratio_school     0.0181      0.029      0.632      0.528      -0.038       0.074\npop_district     4.285e-06    2.2e-07     19.502      0.000    3.85e-06    4.72e-06\nprac_per_mnth       0.0379      0.001     25.842      0.000       0.035       0.041\nnum_comps           0.0613      0.003     21.046      0.000       0.056       0.067\n==============================================================================\nOmnibus:                       26.857   Durbin-Watson:                   1.808\nProb(Omnibus):                  0.000   Jarque-Bera (JB):              105.904\nSkew:                           0.170   Prob(JB):                     1.01e-23\nKurtosis:                       5.891   Cond. No.                     4.48e+05\n==============================================================================\n\nWarnings:\n[1] Standard Errors assume that the covariance matrix of the errors is correctly specified.\n[2] The condition number is large, 4.48e+05. This might indicate that there are\nstrong multicollinearity or other numerical problems.\n\"\"\""
          },
          "metadata": {}
        }
      ]
    },
    {
      "metadata": {
        "trusted": true,
        "collapsed": true
      },
      "cell_type": "code",
      "source": "## Running Linear Regression Model without Intercept (AdjR2 = .98)\nmodel2 = sm.ols(formula = 'r_score ~ tm_size + mf_ratio_team + enrolled + mf_ratio_school + pop_district + prac_per_mnth + num_comps - 1', data=newglee).fit()\nmodel2.summary()",
      "execution_count": 19,
      "outputs": [
        {
          "output_type": "execute_result",
          "execution_count": 19,
          "data": {
            "text/html": "<table class=\"simpletable\">\n<caption>OLS Regression Results</caption>\n<tr>\n  <th>Dep. Variable:</th>         <td>r_score</td>     <th>  R-squared:         </th> <td>   0.984</td> \n</tr>\n<tr>\n  <th>Model:</th>                   <td>OLS</td>       <th>  Adj. R-squared:    </th> <td>   0.984</td> \n</tr>\n<tr>\n  <th>Method:</th>             <td>Least Squares</td>  <th>  F-statistic:       </th> <td>   2632.</td> \n</tr>\n<tr>\n  <th>Date:</th>             <td>Fri, 05 Oct 2018</td> <th>  Prob (F-statistic):</th> <td>2.56e-260</td>\n</tr>\n<tr>\n  <th>Time:</th>                 <td>20:17:30</td>     <th>  Log-Likelihood:    </th> <td> -211.34</td> \n</tr>\n<tr>\n  <th>No. Observations:</th>      <td>   300</td>      <th>  AIC:               </th> <td>   436.7</td> \n</tr>\n<tr>\n  <th>Df Residuals:</th>          <td>   293</td>      <th>  BIC:               </th> <td>   462.6</td> \n</tr>\n<tr>\n  <th>Df Model:</th>              <td>     7</td>      <th>                     </th>     <td> </td>    \n</tr>\n<tr>\n  <th>Covariance Type:</th>      <td>nonrobust</td>    <th>                     </th>     <td> </td>    \n</tr>\n</table>\n<table class=\"simpletable\">\n<tr>\n         <td></td>            <th>coef</th>     <th>std err</th>      <th>t</th>      <th>P>|t|</th>  <th>[0.025</th>    <th>0.975]</th>  \n</tr>\n<tr>\n  <th>tm_size</th>         <td>    0.0309</td> <td>    0.004</td> <td>    8.341</td> <td> 0.000</td> <td>    0.024</td> <td>    0.038</td>\n</tr>\n<tr>\n  <th>mf_ratio_team</th>   <td>    0.7463</td> <td>    0.081</td> <td>    9.263</td> <td> 0.000</td> <td>    0.588</td> <td>    0.905</td>\n</tr>\n<tr>\n  <th>enrolled</th>        <td>    0.0003</td> <td> 4.38e-05</td> <td>    6.429</td> <td> 0.000</td> <td>    0.000</td> <td>    0.000</td>\n</tr>\n<tr>\n  <th>mf_ratio_school</th> <td>    0.8419</td> <td>    0.079</td> <td>   10.646</td> <td> 0.000</td> <td>    0.686</td> <td>    0.997</td>\n</tr>\n<tr>\n  <th>pop_district</th>    <td> 6.846e-06</td> <td> 7.04e-07</td> <td>    9.728</td> <td> 0.000</td> <td> 5.46e-06</td> <td> 8.23e-06</td>\n</tr>\n<tr>\n  <th>prac_per_mnth</th>   <td>    0.0588</td> <td>    0.005</td> <td>   12.673</td> <td> 0.000</td> <td>    0.050</td> <td>    0.068</td>\n</tr>\n<tr>\n  <th>num_comps</th>       <td>    0.1007</td> <td>    0.009</td> <td>   10.893</td> <td> 0.000</td> <td>    0.083</td> <td>    0.119</td>\n</tr>\n</table>\n<table class=\"simpletable\">\n<tr>\n  <th>Omnibus:</th>       <td> 1.749</td> <th>  Durbin-Watson:     </th> <td>   1.878</td>\n</tr>\n<tr>\n  <th>Prob(Omnibus):</th> <td> 0.417</td> <th>  Jarque-Bera (JB):  </th> <td>   1.604</td>\n</tr>\n<tr>\n  <th>Skew:</th>          <td>-0.073</td> <th>  Prob(JB):          </th> <td>   0.448</td>\n</tr>\n<tr>\n  <th>Kurtosis:</th>      <td> 2.673</td> <th>  Cond. No.          </th> <td>2.13e+05</td>\n</tr>\n</table>",
            "text/plain": "<class 'statsmodels.iolib.summary.Summary'>\n\"\"\"\n                            OLS Regression Results                            \n==============================================================================\nDep. Variable:                r_score   R-squared:                       0.984\nModel:                            OLS   Adj. R-squared:                  0.984\nMethod:                 Least Squares   F-statistic:                     2632.\nDate:                Fri, 05 Oct 2018   Prob (F-statistic):          2.56e-260\nTime:                        20:17:30   Log-Likelihood:                -211.34\nNo. Observations:                 300   AIC:                             436.7\nDf Residuals:                     293   BIC:                             462.6\nDf Model:                           7                                         \nCovariance Type:            nonrobust                                         \n===================================================================================\n                      coef    std err          t      P>|t|      [0.025      0.975]\n-----------------------------------------------------------------------------------\ntm_size             0.0309      0.004      8.341      0.000       0.024       0.038\nmf_ratio_team       0.7463      0.081      9.263      0.000       0.588       0.905\nenrolled            0.0003   4.38e-05      6.429      0.000       0.000       0.000\nmf_ratio_school     0.8419      0.079     10.646      0.000       0.686       0.997\npop_district     6.846e-06   7.04e-07      9.728      0.000    5.46e-06    8.23e-06\nprac_per_mnth       0.0588      0.005     12.673      0.000       0.050       0.068\nnum_comps           0.1007      0.009     10.893      0.000       0.083       0.119\n==============================================================================\nOmnibus:                        1.749   Durbin-Watson:                   1.878\nProb(Omnibus):                  0.417   Jarque-Bera (JB):                1.604\nSkew:                          -0.073   Prob(JB):                        0.448\nKurtosis:                       2.673   Cond. No.                     2.13e+05\n==============================================================================\n\nWarnings:\n[1] Standard Errors assume that the covariance matrix of the errors is correctly specified.\n[2] The condition number is large, 2.13e+05. This might indicate that there are\nstrong multicollinearity or other numerical problems.\n\"\"\""
          },
          "metadata": {}
        }
      ]
    },
    {
      "metadata": {
        "trusted": true,
        "collapsed": true
      },
      "cell_type": "code",
      "source": "## Running Linear Regression Model with highly correlated variables without Intercept (AdjR2 = .91)\nmodel3 = sm.ols(formula = 'r_score ~ pop_district + prac_per_mnth + num_comps - 1', data=newglee).fit()\nmodel3.summary()",
      "execution_count": 20,
      "outputs": [
        {
          "output_type": "execute_result",
          "execution_count": 20,
          "data": {
            "text/html": "<table class=\"simpletable\">\n<caption>OLS Regression Results</caption>\n<tr>\n  <th>Dep. Variable:</th>         <td>r_score</td>     <th>  R-squared:         </th> <td>   0.914</td> \n</tr>\n<tr>\n  <th>Model:</th>                   <td>OLS</td>       <th>  Adj. R-squared:    </th> <td>   0.913</td> \n</tr>\n<tr>\n  <th>Method:</th>             <td>Least Squares</td>  <th>  F-statistic:       </th> <td>   1057.</td> \n</tr>\n<tr>\n  <th>Date:</th>             <td>Fri, 05 Oct 2018</td> <th>  Prob (F-statistic):</th> <td>4.17e-158</td>\n</tr>\n<tr>\n  <th>Time:</th>                 <td>20:19:12</td>     <th>  Log-Likelihood:    </th> <td> -466.23</td> \n</tr>\n<tr>\n  <th>No. Observations:</th>      <td>   300</td>      <th>  AIC:               </th> <td>   938.5</td> \n</tr>\n<tr>\n  <th>Df Residuals:</th>          <td>   297</td>      <th>  BIC:               </th> <td>   949.6</td> \n</tr>\n<tr>\n  <th>Df Model:</th>              <td>     3</td>      <th>                     </th>     <td> </td>    \n</tr>\n<tr>\n  <th>Covariance Type:</th>      <td>nonrobust</td>    <th>                     </th>     <td> </td>    \n</tr>\n</table>\n<table class=\"simpletable\">\n<tr>\n        <td></td>           <th>coef</th>     <th>std err</th>      <th>t</th>      <th>P>|t|</th>  <th>[0.025</th>    <th>0.975]</th>  \n</tr>\n<tr>\n  <th>pop_district</th>  <td> 1.905e-05</td> <td> 1.43e-06</td> <td>   13.330</td> <td> 0.000</td> <td> 1.62e-05</td> <td> 2.19e-05</td>\n</tr>\n<tr>\n  <th>prac_per_mnth</th> <td>    0.1462</td> <td>    0.009</td> <td>   15.916</td> <td> 0.000</td> <td>    0.128</td> <td>    0.164</td>\n</tr>\n<tr>\n  <th>num_comps</th>     <td>    0.2619</td> <td>    0.019</td> <td>   14.037</td> <td> 0.000</td> <td>    0.225</td> <td>    0.299</td>\n</tr>\n</table>\n<table class=\"simpletable\">\n<tr>\n  <th>Omnibus:</th>       <td> 6.387</td> <th>  Durbin-Watson:     </th> <td>   1.686</td>\n</tr>\n<tr>\n  <th>Prob(Omnibus):</th> <td> 0.041</td> <th>  Jarque-Bera (JB):  </th> <td>   6.170</td>\n</tr>\n<tr>\n  <th>Skew:</th>          <td>-0.311</td> <th>  Prob(JB):          </th> <td>  0.0457</td>\n</tr>\n<tr>\n  <th>Kurtosis:</th>      <td> 3.328</td> <th>  Cond. No.          </th> <td>1.91e+04</td>\n</tr>\n</table>",
            "text/plain": "<class 'statsmodels.iolib.summary.Summary'>\n\"\"\"\n                            OLS Regression Results                            \n==============================================================================\nDep. Variable:                r_score   R-squared:                       0.914\nModel:                            OLS   Adj. R-squared:                  0.913\nMethod:                 Least Squares   F-statistic:                     1057.\nDate:                Fri, 05 Oct 2018   Prob (F-statistic):          4.17e-158\nTime:                        20:19:12   Log-Likelihood:                -466.23\nNo. Observations:                 300   AIC:                             938.5\nDf Residuals:                     297   BIC:                             949.6\nDf Model:                           3                                         \nCovariance Type:            nonrobust                                         \n=================================================================================\n                    coef    std err          t      P>|t|      [0.025      0.975]\n---------------------------------------------------------------------------------\npop_district   1.905e-05   1.43e-06     13.330      0.000    1.62e-05    2.19e-05\nprac_per_mnth     0.1462      0.009     15.916      0.000       0.128       0.164\nnum_comps         0.2619      0.019     14.037      0.000       0.225       0.299\n==============================================================================\nOmnibus:                        6.387   Durbin-Watson:                   1.686\nProb(Omnibus):                  0.041   Jarque-Bera (JB):                6.170\nSkew:                          -0.311   Prob(JB):                       0.0457\nKurtosis:                       3.328   Cond. No.                     1.91e+04\n==============================================================================\n\nWarnings:\n[1] Standard Errors assume that the covariance matrix of the errors is correctly specified.\n[2] The condition number is large, 1.91e+04. This might indicate that there are\nstrong multicollinearity or other numerical problems.\n\"\"\""
          },
          "metadata": {}
        }
      ]
    },
    {
      "metadata": {},
      "cell_type": "markdown",
      "source": "# Model 2 - Regression Equation \n\nRegionals Score = (0.03 x Team Size) + (0.75 x MF Ratio Team) + (0.0003 x Enrollment in School) + (0.84 x MF Ratio School) + (6.85 x District Population) + (0.06 x Practices per Month) + (0.10 x Competitions before Regionals)"
    }
  ],
  "metadata": {
    "kernelspec": {
      "name": "python36",
      "display_name": "Python 3.6",
      "language": "python"
    },
    "language_info": {
      "mimetype": "text/x-python",
      "nbconvert_exporter": "python",
      "name": "python",
      "pygments_lexer": "ipython3",
      "version": "3.6.6",
      "file_extension": ".py",
      "codemirror_mode": {
        "version": 3,
        "name": "ipython"
      }
    }
  },
  "nbformat": 4,
  "nbformat_minor": 2
}